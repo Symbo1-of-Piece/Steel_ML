{
 "cells": [
  {
   "cell_type": "markdown",
   "id": "c970de0c",
   "metadata": {},
   "source": [
    "## Создание модели машинного обучения для предсказания температуры стали"
   ]
  },
  {
   "cell_type": "markdown",
   "id": "18d2a169",
   "metadata": {},
   "source": [
    "### Введение:"
   ]
  },
  {
   "cell_type": "markdown",
   "id": "55c6f009",
   "metadata": {},
   "source": [
    "Сталь обрабатывают в металлическом ковше вместимостью около 100 тонн. \n",
    "Чтобы ковш выдерживал высокие температуры, изнутри его облицовывают огнеупорным кирпичом.\n",
    "Расплавленную сталь заливают в ковш и подогревают до нужной температуры графитовыми электродами. Они установлены в крышке ковша. \n",
    "\n",
    "Из сплава выводится сера (десульфурация), добавлением примесей корректируется химический состав и отбираются пробы.\n",
    "Сталь легируют — изменяют её состав — подавая куски сплава из бункера для сыпучих материалов или проволоку через специальный трайб-аппарат (англ. tribe, «масса»).\n",
    "\n",
    "Перед тем как первый раз ввести легирующие добавки, измеряют температуру стали и производят её химический анализ.\n",
    "Потом температуру на несколько минут повышают, добавляют легирующие материалы и продувают сплав инертным газом.\n",
    "Затем его перемешивают и снова проводят измерения.\n",
    "Такой цикл повторяется до достижения целевого химического состава и оптимальной температуры плавки.\n",
    "\n",
    "Тогда расплавленная сталь отправляется на доводку металла или поступает в машину непрерывной разливки.\n",
    "Оттуда готовый продукт выходит в виде заготовок-слябов (англ. *slab*, «плита»)."
   ]
  },
  {
   "cell_type": "markdown",
   "id": "a4f128f9",
   "metadata": {},
   "source": [
    "### Описание данных:"
   ]
  },
  {
   "cell_type": "markdown",
   "id": "6095b5c2",
   "metadata": {},
   "source": [
    "Данные состоят из файлов, полученных из разных источников:\n",
    "\n",
    "- `data_arc.csv` — данные об электродах;\n",
    "- `data_bulk.csv` — данные о подаче сыпучих материалов (объём);\n",
    "- `data_bulk_time.csv` *—* данные о подаче сыпучих материалов (время);\n",
    "- `data_gas.csv` — данные о продувке сплава газом;\n",
    "- `data_temp.csv` — результаты измерения температуры;\n",
    "- `data_wire.csv` — данные о проволочных материалах (объём);\n",
    "- `data_wire_time.csv` — данные о проволочных материалах (время).\n",
    "\n",
    "Во всех файлах столбец `key` содержит номер партии.\n",
    "В файлах может быть несколько строк с одинаковым значением `key`: они соответствуют разным итерациям обработки.\n"
   ]
  },
  {
   "cell_type": "markdown",
   "id": "6a460b7f",
   "metadata": {},
   "source": [
    "## 1. Исследовательский анализ данных"
   ]
  },
  {
   "cell_type": "markdown",
   "id": "881ac4b6",
   "metadata": {},
   "source": [
    "Импортируем библиотеки:"
   ]
  },
  {
   "cell_type": "code",
   "execution_count": 32,
   "id": "ac774bbd",
   "metadata": {},
   "outputs": [],
   "source": [
    "import os\n",
    "import pandas as pd\n",
    "import matplotlib.pyplot as plt\n",
    "import seaborn as sns\n"
   ]
  },
  {
   "cell_type": "markdown",
   "id": "d19b7492",
   "metadata": {},
   "source": [
    "Импортируем данные:"
   ]
  },
  {
   "cell_type": "code",
   "execution_count": 2,
   "id": "2128532d",
   "metadata": {},
   "outputs": [],
   "source": [
    "PATH = ''\n",
    "data_arc = pd.read_csv(os.path.join(PATH, 'final_steel', 'data_arc.csv'))\n",
    "data_bulk = pd.read_csv(os.path.join(PATH, 'final_steel', 'data_bulk.csv'))\n",
    "data_bulk_time = pd.read_csv(os.path.join(PATH, 'final_steel', 'data_bulk_time.csv'))\n",
    "data_gas = pd.read_csv(os.path.join(PATH, 'final_steel', 'data_gas.csv'))\n",
    "data_temp = pd.read_csv(os.path.join(PATH, 'final_steel', 'data_temp.csv'))\n",
    "data_wire = pd.read_csv(os.path.join(PATH, 'final_steel', 'data_wire.csv'))\n",
    "data_wire_time = pd.read_csv(os.path.join(PATH, 'final_steel', 'data_wire_time.csv'))"
   ]
  },
  {
   "cell_type": "markdown",
   "id": "8be20586",
   "metadata": {},
   "source": [
    "**Изучим каждый датасет отдельно:**"
   ]
  },
  {
   "cell_type": "markdown",
   "id": "76d483a0",
   "metadata": {},
   "source": [
    "Выведем первые и последние 5 строк:"
   ]
  },
  {
   "cell_type": "code",
   "execution_count": 3,
   "id": "3c9555a1",
   "metadata": {},
   "outputs": [
    {
     "data": {
      "text/html": [
       "<div>\n",
       "<style scoped>\n",
       "    .dataframe tbody tr th:only-of-type {\n",
       "        vertical-align: middle;\n",
       "    }\n",
       "\n",
       "    .dataframe tbody tr th {\n",
       "        vertical-align: top;\n",
       "    }\n",
       "\n",
       "    .dataframe thead th {\n",
       "        text-align: right;\n",
       "    }\n",
       "</style>\n",
       "<table border=\"1\" class=\"dataframe\">\n",
       "  <thead>\n",
       "    <tr style=\"text-align: right;\">\n",
       "      <th></th>\n",
       "      <th>key</th>\n",
       "      <th>Начало нагрева дугой</th>\n",
       "      <th>Конец нагрева дугой</th>\n",
       "      <th>Активная мощность</th>\n",
       "      <th>Реактивная мощность</th>\n",
       "    </tr>\n",
       "  </thead>\n",
       "  <tbody>\n",
       "    <tr>\n",
       "      <th>0</th>\n",
       "      <td>1</td>\n",
       "      <td>2019-05-03 11:02:14</td>\n",
       "      <td>2019-05-03 11:06:02</td>\n",
       "      <td>0.976059</td>\n",
       "      <td>0.687084</td>\n",
       "    </tr>\n",
       "    <tr>\n",
       "      <th>1</th>\n",
       "      <td>1</td>\n",
       "      <td>2019-05-03 11:07:28</td>\n",
       "      <td>2019-05-03 11:10:33</td>\n",
       "      <td>0.805607</td>\n",
       "      <td>0.520285</td>\n",
       "    </tr>\n",
       "    <tr>\n",
       "      <th>2</th>\n",
       "      <td>1</td>\n",
       "      <td>2019-05-03 11:11:44</td>\n",
       "      <td>2019-05-03 11:14:36</td>\n",
       "      <td>0.744363</td>\n",
       "      <td>0.498805</td>\n",
       "    </tr>\n",
       "    <tr>\n",
       "      <th>3</th>\n",
       "      <td>1</td>\n",
       "      <td>2019-05-03 11:18:14</td>\n",
       "      <td>2019-05-03 11:24:19</td>\n",
       "      <td>1.659363</td>\n",
       "      <td>1.062669</td>\n",
       "    </tr>\n",
       "    <tr>\n",
       "      <th>4</th>\n",
       "      <td>1</td>\n",
       "      <td>2019-05-03 11:26:09</td>\n",
       "      <td>2019-05-03 11:28:37</td>\n",
       "      <td>0.692755</td>\n",
       "      <td>0.414397</td>\n",
       "    </tr>\n",
       "  </tbody>\n",
       "</table>\n",
       "</div>"
      ],
      "text/plain": [
       "   key Начало нагрева дугой  Конец нагрева дугой  Активная мощность  \\\n",
       "0    1  2019-05-03 11:02:14  2019-05-03 11:06:02           0.976059   \n",
       "1    1  2019-05-03 11:07:28  2019-05-03 11:10:33           0.805607   \n",
       "2    1  2019-05-03 11:11:44  2019-05-03 11:14:36           0.744363   \n",
       "3    1  2019-05-03 11:18:14  2019-05-03 11:24:19           1.659363   \n",
       "4    1  2019-05-03 11:26:09  2019-05-03 11:28:37           0.692755   \n",
       "\n",
       "   Реактивная мощность  \n",
       "0             0.687084  \n",
       "1             0.520285  \n",
       "2             0.498805  \n",
       "3             1.062669  \n",
       "4             0.414397  "
      ]
     },
     "execution_count": 3,
     "metadata": {},
     "output_type": "execute_result"
    }
   ],
   "source": [
    "data_arc.head()"
   ]
  },
  {
   "cell_type": "code",
   "execution_count": 4,
   "id": "b59d7b62",
   "metadata": {},
   "outputs": [
    {
     "data": {
      "text/html": [
       "<div>\n",
       "<style scoped>\n",
       "    .dataframe tbody tr th:only-of-type {\n",
       "        vertical-align: middle;\n",
       "    }\n",
       "\n",
       "    .dataframe tbody tr th {\n",
       "        vertical-align: top;\n",
       "    }\n",
       "\n",
       "    .dataframe thead th {\n",
       "        text-align: right;\n",
       "    }\n",
       "</style>\n",
       "<table border=\"1\" class=\"dataframe\">\n",
       "  <thead>\n",
       "    <tr style=\"text-align: right;\">\n",
       "      <th></th>\n",
       "      <th>key</th>\n",
       "      <th>Начало нагрева дугой</th>\n",
       "      <th>Конец нагрева дугой</th>\n",
       "      <th>Активная мощность</th>\n",
       "      <th>Реактивная мощность</th>\n",
       "    </tr>\n",
       "  </thead>\n",
       "  <tbody>\n",
       "    <tr>\n",
       "      <th>14871</th>\n",
       "      <td>3241</td>\n",
       "      <td>2019-09-01 03:58:58</td>\n",
       "      <td>2019-09-01 04:01:35</td>\n",
       "      <td>0.533670</td>\n",
       "      <td>0.354439</td>\n",
       "    </tr>\n",
       "    <tr>\n",
       "      <th>14872</th>\n",
       "      <td>3241</td>\n",
       "      <td>2019-09-01 04:05:04</td>\n",
       "      <td>2019-09-01 04:08:04</td>\n",
       "      <td>0.676604</td>\n",
       "      <td>0.523631</td>\n",
       "    </tr>\n",
       "    <tr>\n",
       "      <th>14873</th>\n",
       "      <td>3241</td>\n",
       "      <td>2019-09-01 04:16:41</td>\n",
       "      <td>2019-09-01 04:19:45</td>\n",
       "      <td>0.733899</td>\n",
       "      <td>0.475654</td>\n",
       "    </tr>\n",
       "    <tr>\n",
       "      <th>14874</th>\n",
       "      <td>3241</td>\n",
       "      <td>2019-09-01 04:31:51</td>\n",
       "      <td>2019-09-01 04:32:48</td>\n",
       "      <td>0.220694</td>\n",
       "      <td>0.145768</td>\n",
       "    </tr>\n",
       "    <tr>\n",
       "      <th>14875</th>\n",
       "      <td>3241</td>\n",
       "      <td>2019-09-01 04:34:47</td>\n",
       "      <td>2019-09-01 04:36:08</td>\n",
       "      <td>0.306580</td>\n",
       "      <td>0.196708</td>\n",
       "    </tr>\n",
       "  </tbody>\n",
       "</table>\n",
       "</div>"
      ],
      "text/plain": [
       "        key Начало нагрева дугой  Конец нагрева дугой  Активная мощность  \\\n",
       "14871  3241  2019-09-01 03:58:58  2019-09-01 04:01:35           0.533670   \n",
       "14872  3241  2019-09-01 04:05:04  2019-09-01 04:08:04           0.676604   \n",
       "14873  3241  2019-09-01 04:16:41  2019-09-01 04:19:45           0.733899   \n",
       "14874  3241  2019-09-01 04:31:51  2019-09-01 04:32:48           0.220694   \n",
       "14875  3241  2019-09-01 04:34:47  2019-09-01 04:36:08           0.306580   \n",
       "\n",
       "       Реактивная мощность  \n",
       "14871             0.354439  \n",
       "14872             0.523631  \n",
       "14873             0.475654  \n",
       "14874             0.145768  \n",
       "14875             0.196708  "
      ]
     },
     "execution_count": 4,
     "metadata": {},
     "output_type": "execute_result"
    }
   ],
   "source": [
    "data_arc.tail()"
   ]
  },
  {
   "cell_type": "markdown",
   "id": "78dc85ab",
   "metadata": {},
   "source": [
    "Выведем основную информацию о датафрейме:"
   ]
  },
  {
   "cell_type": "code",
   "execution_count": 5,
   "id": "36e1952d",
   "metadata": {},
   "outputs": [
    {
     "name": "stdout",
     "output_type": "stream",
     "text": [
      "<class 'pandas.core.frame.DataFrame'>\n",
      "RangeIndex: 14876 entries, 0 to 14875\n",
      "Data columns (total 5 columns):\n",
      " #   Column                Non-Null Count  Dtype  \n",
      "---  ------                --------------  -----  \n",
      " 0   key                   14876 non-null  int64  \n",
      " 1   Начало нагрева дугой  14876 non-null  object \n",
      " 2   Конец нагрева дугой   14876 non-null  object \n",
      " 3   Активная мощность     14876 non-null  float64\n",
      " 4   Реактивная мощность   14876 non-null  float64\n",
      "dtypes: float64(2), int64(1), object(2)\n",
      "memory usage: 581.2+ KB\n"
     ]
    }
   ],
   "source": [
    "data_arc.info()"
   ]
  },
  {
   "cell_type": "markdown",
   "id": "bbe26177",
   "metadata": {},
   "source": [
    "Пропусков нет"
   ]
  },
  {
   "cell_type": "code",
   "execution_count": 7,
   "id": "58e6d31d",
   "metadata": {},
   "outputs": [
    {
     "data": {
      "text/html": [
       "<div>\n",
       "<style scoped>\n",
       "    .dataframe tbody tr th:only-of-type {\n",
       "        vertical-align: middle;\n",
       "    }\n",
       "\n",
       "    .dataframe tbody tr th {\n",
       "        vertical-align: top;\n",
       "    }\n",
       "\n",
       "    .dataframe thead th {\n",
       "        text-align: right;\n",
       "    }\n",
       "</style>\n",
       "<table border=\"1\" class=\"dataframe\">\n",
       "  <thead>\n",
       "    <tr style=\"text-align: right;\">\n",
       "      <th></th>\n",
       "      <th>key</th>\n",
       "      <th>Активная мощность</th>\n",
       "      <th>Реактивная мощность</th>\n",
       "    </tr>\n",
       "  </thead>\n",
       "  <tbody>\n",
       "    <tr>\n",
       "      <th>count</th>\n",
       "      <td>14876.000000</td>\n",
       "      <td>14876.000000</td>\n",
       "      <td>14876.000000</td>\n",
       "    </tr>\n",
       "    <tr>\n",
       "      <th>mean</th>\n",
       "      <td>1615.220422</td>\n",
       "      <td>0.670441</td>\n",
       "      <td>0.452592</td>\n",
       "    </tr>\n",
       "    <tr>\n",
       "      <th>std</th>\n",
       "      <td>934.571502</td>\n",
       "      <td>0.408159</td>\n",
       "      <td>5.878702</td>\n",
       "    </tr>\n",
       "    <tr>\n",
       "      <th>min</th>\n",
       "      <td>1.000000</td>\n",
       "      <td>0.030002</td>\n",
       "      <td>-715.504924</td>\n",
       "    </tr>\n",
       "    <tr>\n",
       "      <th>25%</th>\n",
       "      <td>806.000000</td>\n",
       "      <td>0.395297</td>\n",
       "      <td>0.290991</td>\n",
       "    </tr>\n",
       "    <tr>\n",
       "      <th>50%</th>\n",
       "      <td>1617.000000</td>\n",
       "      <td>0.555517</td>\n",
       "      <td>0.415962</td>\n",
       "    </tr>\n",
       "    <tr>\n",
       "      <th>75%</th>\n",
       "      <td>2429.000000</td>\n",
       "      <td>0.857034</td>\n",
       "      <td>0.637371</td>\n",
       "    </tr>\n",
       "    <tr>\n",
       "      <th>max</th>\n",
       "      <td>3241.000000</td>\n",
       "      <td>3.731596</td>\n",
       "      <td>2.676388</td>\n",
       "    </tr>\n",
       "  </tbody>\n",
       "</table>\n",
       "</div>"
      ],
      "text/plain": [
       "                key  Активная мощность  Реактивная мощность\n",
       "count  14876.000000       14876.000000         14876.000000\n",
       "mean    1615.220422           0.670441             0.452592\n",
       "std      934.571502           0.408159             5.878702\n",
       "min        1.000000           0.030002          -715.504924\n",
       "25%      806.000000           0.395297             0.290991\n",
       "50%     1617.000000           0.555517             0.415962\n",
       "75%     2429.000000           0.857034             0.637371\n",
       "max     3241.000000           3.731596             2.676388"
      ]
     },
     "execution_count": 7,
     "metadata": {},
     "output_type": "execute_result"
    }
   ],
   "source": [
    "data_arc.describe()"
   ]
  },
  {
   "cell_type": "markdown",
   "id": "2c79ce32",
   "metadata": {},
   "source": [
    "*Интересно, что в минимальная реактивная мощность может быть отрицательной, надо изучить этот момент детальнее*"
   ]
  },
  {
   "cell_type": "markdown",
   "id": "005e2558",
   "metadata": {},
   "source": [
    "Переименуем названия столбцов и преобразуем формат даты:"
   ]
  },
  {
   "cell_type": "code",
   "execution_count": 8,
   "id": "fdcbd5da",
   "metadata": {},
   "outputs": [],
   "source": [
    "data_arc.columns = ['key', 'arc_heating_start', 'arc_heating_end', 'active_power', 'reactive_power']"
   ]
  },
  {
   "cell_type": "code",
   "execution_count": 10,
   "id": "5a1c4ecc",
   "metadata": {},
   "outputs": [],
   "source": [
    "data_arc['arc_heating_start'] = pd.to_datetime(data_arc['arc_heating_start'])\n",
    "data_arc['arc_heating_end'] = pd.to_datetime(data_arc['arc_heating_end'])"
   ]
  },
  {
   "cell_type": "markdown",
   "id": "8f58fe36",
   "metadata": {},
   "source": [
    "Проверим наличие дубликатов:"
   ]
  },
  {
   "cell_type": "code",
   "execution_count": 30,
   "id": "dc78ac42",
   "metadata": {},
   "outputs": [
    {
     "data": {
      "text/plain": [
       "0"
      ]
     },
     "execution_count": 30,
     "metadata": {},
     "output_type": "execute_result"
    }
   ],
   "source": [
    "data_arc.duplicated().sum()"
   ]
  },
  {
   "cell_type": "markdown",
   "id": "220a33cf",
   "metadata": {},
   "source": [
    "**Построим диаграммы распределения данных:**."
   ]
  },
  {
   "cell_type": "markdown",
   "id": "e7529c56",
   "metadata": {},
   "source": [
    "Сгруппируем данные о количестве итераций нагрева по партиям:"
   ]
  },
  {
   "cell_type": "code",
   "execution_count": 21,
   "id": "58174fe1",
   "metadata": {},
   "outputs": [
    {
     "data": {
      "image/png": "[encoded data removed]",
      "text/plain": [
       "<Figure size 640x480 with 1 Axes>"
      ]
     },
     "metadata": {},
     "output_type": "display_data"
    }
   ],
   "source": [
    "plt.figure()\n",
    "ax = data_arc.groupby('key')['active_power'].count().hist()\n",
    "ax.set_title('Распределение количества итераций нагрева разных партий');\n",
    "ax.set_ylabel('Количество');\n",
    "ax.set_xlabel('Количество итераций нагрева в одной партии');"
   ]
  },
  {
   "cell_type": "markdown",
   "id": "536923d5",
   "metadata": {},
   "source": [
    "*Как мы видим значение моды итераций нагрева в рамках одной партии равно 5;<br>Присутствуют штучные случии нагрева одной партии 12-16 раз, возможно выбросы.*"
   ]
  },
  {
   "cell_type": "code",
   "execution_count": 45,
   "id": "79cfccd3",
   "metadata": {},
   "outputs": [
    {
     "ename": "AttributeError",
     "evalue": "'DataFrameGroupBy' object has no attribute 'sort_values'",
     "output_type": "error",
     "traceback": [
      "\u001b[1;31m---------------------------------------------------------------------------\u001b[0m",
      "\u001b[1;31mAttributeError\u001b[0m                            Traceback (most recent call last)",
      "Cell \u001b[1;32mIn[45], line 1\u001b[0m\n\u001b[1;32m----> 1\u001b[0m \u001b[43mdata_arc\u001b[49m\u001b[38;5;241;43m.\u001b[39;49m\u001b[43mgroupby\u001b[49m\u001b[43m(\u001b[49m\u001b[38;5;124;43m'\u001b[39;49m\u001b[38;5;124;43mkey\u001b[39;49m\u001b[38;5;124;43m'\u001b[39;49m\u001b[43m)\u001b[49m\u001b[38;5;241;43m.\u001b[39;49m\u001b[43msort_values\u001b[49m(\u001b[38;5;124m'\u001b[39m\u001b[38;5;124mactive_power\u001b[39m\u001b[38;5;124m'\u001b[39m)\n",
      "File \u001b[1;32mC:\\ProgramData\\anaconda3\\Lib\\site-packages\\pandas\\core\\groupby\\groupby.py:987\u001b[0m, in \u001b[0;36mGroupBy.__getattr__\u001b[1;34m(self, attr)\u001b[0m\n\u001b[0;32m    984\u001b[0m \u001b[38;5;28;01mif\u001b[39;00m attr \u001b[38;5;129;01min\u001b[39;00m \u001b[38;5;28mself\u001b[39m\u001b[38;5;241m.\u001b[39mobj:\n\u001b[0;32m    985\u001b[0m     \u001b[38;5;28;01mreturn\u001b[39;00m \u001b[38;5;28mself\u001b[39m[attr]\n\u001b[1;32m--> 987\u001b[0m \u001b[38;5;28;01mraise\u001b[39;00m \u001b[38;5;167;01mAttributeError\u001b[39;00m(\n\u001b[0;32m    988\u001b[0m     \u001b[38;5;124mf\u001b[39m\u001b[38;5;124m\"\u001b[39m\u001b[38;5;124m'\u001b[39m\u001b[38;5;132;01m{\u001b[39;00m\u001b[38;5;28mtype\u001b[39m(\u001b[38;5;28mself\u001b[39m)\u001b[38;5;241m.\u001b[39m\u001b[38;5;18m__name__\u001b[39m\u001b[38;5;132;01m}\u001b[39;00m\u001b[38;5;124m'\u001b[39m\u001b[38;5;124m object has no attribute \u001b[39m\u001b[38;5;124m'\u001b[39m\u001b[38;5;132;01m{\u001b[39;00mattr\u001b[38;5;132;01m}\u001b[39;00m\u001b[38;5;124m'\u001b[39m\u001b[38;5;124m\"\u001b[39m\n\u001b[0;32m    989\u001b[0m )\n",
      "\u001b[1;31mAttributeError\u001b[0m: 'DataFrameGroupBy' object has no attribute 'sort_values'"
     ]
    }
   ],
   "source": [
    "data_arc.groupby('key').sort_values('active_power')"
   ]
  },
  {
   "cell_type": "markdown",
   "id": "122d50d1",
   "metadata": {},
   "source": [
    "Построим диаграмму распределения значения активной мощности:"
   ]
  },
  {
   "cell_type": "code",
   "execution_count": 35,
   "id": "4b1b0cf5",
   "metadata": {},
   "outputs": [
    {
     "data": {
      "image/png": "[encoded data removed]",
      "text/plain": [
       "<Figure size 640x480 with 1 Axes>"
      ]
     },
     "metadata": {},
     "output_type": "display_data"
    }
   ],
   "source": [
    "sns.histplot(data=data_arc['active_power'], bins=30);"
   ]
  },
  {
   "cell_type": "markdown",
   "id": "9f3812f6",
   "metadata": {},
   "source": [
    "*Видим тяжелых хвост значений, что также намекает на наличие выбросов*"
   ]
  },
  {
   "cell_type": "code",
   "execution_count": null,
   "id": "f14cda71",
   "metadata": {},
   "outputs": [],
   "source": []
  },
  {
   "cell_type": "code",
   "execution_count": null,
   "id": "72669de9",
   "metadata": {},
   "outputs": [],
   "source": []
  },
  {
   "cell_type": "code",
   "execution_count": null,
   "id": "157b6395",
   "metadata": {},
   "outputs": [],
   "source": []
  },
  {
   "cell_type": "code",
   "execution_count": null,
   "id": "787a74f1",
   "metadata": {},
   "outputs": [],
   "source": []
  },
  {
   "cell_type": "code",
   "execution_count": null,
   "id": "deed1887",
   "metadata": {},
   "outputs": [],
   "source": []
  },
  {
   "cell_type": "code",
   "execution_count": null,
   "id": "c02dcbf0",
   "metadata": {},
   "outputs": [],
   "source": []
  }
 ],
 "metadata": {
  "kernelspec": {
   "display_name": "Python 3 (ipykernel)",
   "language": "python",
   "name": "python3"
  },
  "language_info": {
   "codemirror_mode": {
    "name": "ipython",
    "version": 3
   },
   "file_extension": ".py",
   "mimetype": "text/x-python",
   "name": "python",
   "nbconvert_exporter": "python",
   "pygments_lexer": "ipython3",
   "version": "3.11.4"
  }
 },
 "nbformat": 4,
 "nbformat_minor": 5
}
